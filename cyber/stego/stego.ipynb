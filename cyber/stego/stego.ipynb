{
 "cells": [
  {
   "cell_type": "code",
   "execution_count": 1,
   "metadata": {},
   "outputs": [],
   "source": [
    "import random\n",
    "from PIL import Image\n",
    "import stepic\n",
    "import exiftool\n",
    "import piexif\n",
    "import re\n",
    "from shutil import copyfile\n",
    "\n",
    "\n",
    "def defend_stega(img_source,img_dest,password=\"password\"):\n",
    "    list_method = ['string','exif','stepic']\n",
    "    method = random.choice(list_method)\n",
    "    password = 'flag={'+password+'}'\n",
    "    print(method)\n",
    "    \n",
    "    if method == 'string':\n",
    "        copyfile(img_source, img_dest)\n",
    "        with open(img_dest, \"ab\") as f:\n",
    "            f.write(password.encode('utf8'))\n",
    "\n",
    "    if method == 'exif':\n",
    "        im = Image.open(img_source)\n",
    "        if \"exif\" in im.info:\n",
    "            exif_dict = piexif.load(im.info[\"exif\"])\n",
    "            exif_dict[\"0th\"][piexif.ImageIFD.ImageDescription] = password\n",
    "            exif_bytes = piexif.dump(exif_dict)\n",
    "        else:\n",
    "            exif_bytes = piexif.dump({\"0th\":{piexif.ImageIFD.ImageDescription:password}})\n",
    "        im.save(img_dest, exif=exif_bytes)\n",
    "\n",
    "    if method == 'stepic':\n",
    "        img = Image.open(img_source)\n",
    "        img2 = stepic.encode(img,bytes(password, encoding = \"utf-8\"))\n",
    "        img2.save(img_dest,'PNG')\n",
    "        \n",
    "def attack_stega(img_source,strength):\n",
    "    list_method = ['string','exif','stepic']\n",
    "    attacks = random.sample(list_method, strength)\n",
    "    guess = ''\n",
    "    for attack in attacks:\n",
    "        if attack == 'string':\n",
    "            res = ''\n",
    "            with open(img_source, \"rb\") as f:\n",
    "                for chunk in iter(lambda: f.read(8), b''):\n",
    "                    res += chunk.decode('utf-8', errors=\"ignore\")\n",
    "            if res.endswith('flag={'):\n",
    "                guess = re.split('{|}', res)[-2]\n",
    "\n",
    "        if attack == 'exif':\n",
    "            with exiftool.ExifTool() as et:\n",
    "                metadata = et.get_metadata(img_source)\n",
    "                if 'EXIF:ImageDescription' in metadata.keys():\n",
    "                    if 'flag' in metadata['EXIF:ImageDescription']:\n",
    "                        guess = re.split('{|}', metadata['EXIF:ImageDescription'])[1]\n",
    "\n",
    "        if attack == 'stepic':\n",
    "            img = Image.open(img_source)\n",
    "            result = stepic.decode(img)\n",
    "            if 'flag' in result:\n",
    "                guess = re.split('{|}', result)[1]\n",
    "    return guess\n"
   ]
  },
  {
   "cell_type": "code",
   "execution_count": 2,
   "metadata": {},
   "outputs": [
    {
     "name": "stdout",
     "output_type": "stream",
     "text": [
      "exif\n"
     ]
    }
   ],
   "source": [
    "defend_stega('test.png','test_secret.png')"
   ]
  },
  {
   "cell_type": "code",
   "execution_count": 8,
   "metadata": {},
   "outputs": [
    {
     "name": "stdout",
     "output_type": "stream",
     "text": [
      "password\n"
     ]
    }
   ],
   "source": [
    "s = attack_stega('test_secret.png',2)\n",
    "print(s)"
   ]
  }
 ],
 "metadata": {
  "interpreter": {
   "hash": "0704ed561e1cd50adb52a86e79bf800f6a21367f61919e408cd150d7b3514cd0"
  },
  "kernelspec": {
   "display_name": "Python 3.9.2 64-bit ('rootme': venv)",
   "language": "python",
   "name": "python3"
  },
  "language_info": {
   "codemirror_mode": {
    "name": "ipython",
    "version": 3
   },
   "file_extension": ".py",
   "mimetype": "text/x-python",
   "name": "python",
   "nbconvert_exporter": "python",
   "pygments_lexer": "ipython3",
   "version": "3.9.2"
  },
  "orig_nbformat": 4
 },
 "nbformat": 4,
 "nbformat_minor": 2
}
