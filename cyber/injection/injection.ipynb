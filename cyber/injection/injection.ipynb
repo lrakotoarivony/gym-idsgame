{
 "cells": [
  {
   "cell_type": "code",
   "execution_count": 4,
   "metadata": {},
   "outputs": [],
   "source": [
    "from gym_idsgame.cyber.injection import attack_injection, defend_injection, simulate_attack_injection\n",
    "import time"
   ]
  },
  {
   "cell_type": "code",
   "execution_count": 3,
   "metadata": {},
   "outputs": [
    {
     "data": {
      "text/plain": [
       "False"
      ]
     },
     "execution_count": 3,
     "metadata": {},
     "output_type": "execute_result"
    }
   ],
   "source": [
    "simulate_attack_injection(2,2)"
   ]
  },
  {
   "cell_type": "code",
   "execution_count": 5,
   "metadata": {},
   "outputs": [
    {
     "name": "stdout",
     "output_type": "stream",
     "text": [
      "0 0\n",
      "0 0.0005568456649780273\n",
      "_______________\n",
      "0 1\n",
      "0 0.0004619050025939941\n",
      "_______________\n",
      "0 2\n",
      "0 0.00042760610580444336\n",
      "_______________\n",
      "1 0\n",
      "100 0.0004649043083190918\n",
      "_______________\n",
      "1 1\n",
      "0 0.00035163402557373044\n",
      "_______________\n",
      "1 2\n",
      "0 0.0003525853157043457\n",
      "_______________\n",
      "2 0\n",
      "100 0.00015085935592651367\n",
      "_______________\n",
      "2 1\n",
      "100 0.00015192747116088868\n",
      "_______________\n",
      "2 2\n",
      "0 0.13507212877273558\n",
      "_______________\n"
     ]
    }
   ],
   "source": [
    "for attack in range(3):\n",
    "    for defend in range(3):\n",
    "        count = 0\n",
    "        start = time.time()\n",
    "        for _ in range(100):\n",
    "            if simulate_attack_injection(attack,defend):\n",
    "                count+=1\n",
    "        end = time.time()\n",
    "        time_duration = end - start\n",
    "        win_perc = count\n",
    "        print(attack,defend)\n",
    "        print(win_perc,time_duration / 100)\n",
    "        print('_______________')"
   ]
  }
 ],
 "metadata": {
  "interpreter": {
   "hash": "0704ed561e1cd50adb52a86e79bf800f6a21367f61919e408cd150d7b3514cd0"
  },
  "kernelspec": {
   "display_name": "Python 3.9.2 64-bit ('rootme': venv)",
   "language": "python",
   "name": "python3"
  },
  "language_info": {
   "codemirror_mode": {
    "name": "ipython",
    "version": 3
   },
   "file_extension": ".py",
   "mimetype": "text/x-python",
   "name": "python",
   "nbconvert_exporter": "python",
   "pygments_lexer": "ipython3",
   "version": "3.9.2"
  },
  "orig_nbformat": 4
 },
 "nbformat": 4,
 "nbformat_minor": 2
}
