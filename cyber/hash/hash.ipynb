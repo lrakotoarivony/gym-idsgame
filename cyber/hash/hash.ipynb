{
 "cells": [
  {
   "cell_type": "code",
   "execution_count": 4,
   "metadata": {},
   "outputs": [],
   "source": [
    "from gym_idsgame.cyber.hash import attack_hash, defend_hash\n",
    "from random import choice"
   ]
  },
  {
   "cell_type": "code",
   "execution_count": 3,
   "metadata": {},
   "outputs": [
    {
     "data": {
      "text/plain": [
       "('pRincess',\n",
       " '25368d0aa00da722ed681f32803a9c3fed68bdf6fe7f4e141c9fddef5d52af75')"
      ]
     },
     "execution_count": 3,
     "metadata": {},
     "output_type": "execute_result"
    }
   ],
   "source": [
    "defend_hash(\"princess\",1)"
   ]
  },
  {
   "cell_type": "code",
   "execution_count": 5,
   "metadata": {},
   "outputs": [
    {
     "name": "stderr",
     "output_type": "stream",
     "text": [
      "Using default input encoding: UTF-8\n",
      "Using default input encoding: UTF-8\n",
      "Using default input encoding: UTF-8\n",
      "Using default input encoding: UTF-8\n",
      "Using default input encoding: UTF-8\n",
      "Using default input encoding: UTF-8\n",
      "Using default input encoding: UTF-8\n",
      "Using default input encoding: UTF-8\n",
      "Using default input encoding: UTF-8\n",
      "Using default input encoding: UTF-8\n",
      "Using default input encoding: UTF-8\n",
      "Using default input encoding: UTF-8\n",
      "Using default input encoding: UTF-8\n",
      "Using default input encoding: UTF-8\n",
      "Using default input encoding: UTF-8\n",
      "Using default input encoding: UTF-8\n",
      "Using default input encoding: UTF-8\n",
      "Using default input encoding: UTF-8\n",
      "Using default input encoding: UTF-8\n",
      "Using default input encoding: UTF-8\n",
      "Using default input encoding: UTF-8\n",
      "Using default input encoding: UTF-8\n",
      "Using default input encoding: UTF-8\n",
      "Using default input encoding: UTF-8\n",
      "Using default input encoding: UTF-8\n",
      "Using default input encoding: UTF-8\n",
      "Using default input encoding: UTF-8\n",
      "Using default input encoding: UTF-8\n",
      "Using default input encoding: UTF-8\n",
      "Using default input encoding: UTF-8\n",
      "Using default input encoding: UTF-8\n",
      "Using default input encoding: UTF-8\n",
      "Using default input encoding: UTF-8\n",
      "Using default input encoding: UTF-8\n",
      "Using default input encoding: UTF-8\n",
      "Using default input encoding: UTF-8\n",
      "Using default input encoding: UTF-8\n",
      "Using default input encoding: UTF-8\n",
      "Using default input encoding: UTF-8\n",
      "Using default input encoding: UTF-8\n",
      "Using default input encoding: UTF-8\n",
      "Using default input encoding: UTF-8\n",
      "Using default input encoding: UTF-8\n",
      "Using default input encoding: UTF-8\n",
      "Using default input encoding: UTF-8\n",
      "Using default input encoding: UTF-8\n",
      "Using default input encoding: UTF-8\n",
      "Using default input encoding: UTF-8\n",
      "Using default input encoding: UTF-8\n",
      "Using default input encoding: UTF-8\n",
      "Using default input encoding: UTF-8\n",
      "Using default input encoding: UTF-8\n",
      "Using default input encoding: UTF-8\n",
      "Using default input encoding: UTF-8\n",
      "Using default input encoding: UTF-8\n",
      "Using default input encoding: UTF-8\n",
      "Using default input encoding: UTF-8\n",
      "Using default input encoding: UTF-8\n",
      "Using default input encoding: UTF-8\n",
      "Using default input encoding: UTF-8\n",
      "Using default input encoding: UTF-8\n",
      "Using default input encoding: UTF-8\n",
      "Using default input encoding: UTF-8\n",
      "Using default input encoding: UTF-8\n",
      "Using default input encoding: UTF-8\n",
      "Using default input encoding: UTF-8\n",
      "Using default input encoding: UTF-8\n",
      "Using default input encoding: UTF-8\n",
      "Using default input encoding: UTF-8\n",
      "Using default input encoding: UTF-8\n",
      "Using default input encoding: UTF-8\n",
      "Using default input encoding: UTF-8\n",
      "Using default input encoding: UTF-8\n",
      "Using default input encoding: UTF-8\n",
      "Using default input encoding: UTF-8\n",
      "Using default input encoding: UTF-8\n",
      "Using default input encoding: UTF-8\n",
      "Using default input encoding: UTF-8\n",
      "Using default input encoding: UTF-8\n",
      "Using default input encoding: UTF-8\n",
      "Using default input encoding: UTF-8\n",
      "Using default input encoding: UTF-8\n",
      "Using default input encoding: UTF-8\n",
      "Using default input encoding: UTF-8\n",
      "Using default input encoding: UTF-8\n",
      "Using default input encoding: UTF-8\n",
      "Using default input encoding: UTF-8\n",
      "Using default input encoding: UTF-8\n",
      "Using default input encoding: UTF-8\n",
      "Using default input encoding: UTF-8\n",
      "Using default input encoding: UTF-8\n",
      "Using default input encoding: UTF-8\n",
      "Using default input encoding: UTF-8\n",
      "Using default input encoding: UTF-8\n",
      "Using default input encoding: UTF-8\n",
      "Using default input encoding: UTF-8\n",
      "Using default input encoding: UTF-8\n",
      "Using default input encoding: UTF-8\n"
     ]
    },
    {
     "name": "stdout",
     "output_type": "stream",
     "text": [
      "Le pourcentage de réussite est de 100%\n"
     ]
    },
    {
     "name": "stderr",
     "output_type": "stream",
     "text": [
      "Using default input encoding: UTF-8\n",
      "Using default input encoding: UTF-8\n"
     ]
    }
   ],
   "source": [
    "with open('short_ech.txt') as f:\n",
    "    alist = [line.rstrip() for line in f]\n",
    "\n",
    "count = 0\n",
    "for i in range(100):\n",
    "    password = choice(alist)\n",
    "    answer, _ = defend_hash(password, 1)\n",
    "    guess = attack_hash(2)\n",
    "    if answer == guess:\n",
    "        count += 1\n",
    "\n",
    "print(f'Le pourcentage de réussite est de {count}%')"
   ]
  }
 ],
 "metadata": {
  "interpreter": {
   "hash": "0704ed561e1cd50adb52a86e79bf800f6a21367f61919e408cd150d7b3514cd0"
  },
  "kernelspec": {
   "display_name": "Python 3.9.2 64-bit ('rootme': venv)",
   "language": "python",
   "name": "python3"
  },
  "language_info": {
   "codemirror_mode": {
    "name": "ipython",
    "version": 3
   },
   "file_extension": ".py",
   "mimetype": "text/x-python",
   "name": "python",
   "nbconvert_exporter": "python",
   "pygments_lexer": "ipython3",
   "version": "3.9.2"
  },
  "orig_nbformat": 4
 },
 "nbformat": 4,
 "nbformat_minor": 2
}
