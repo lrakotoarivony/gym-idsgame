{
 "cells": [
  {
   "cell_type": "code",
   "execution_count": 1,
   "metadata": {},
   "outputs": [],
   "source": [
    "from gym_idsgame.cyber.password import attack_password, defend_password\n",
    "from gym_idsgame.cyber.password import simulate_attack_password\n",
    "import time"
   ]
  },
  {
   "cell_type": "code",
   "execution_count": 3,
   "metadata": {},
   "outputs": [
    {
     "data": {
      "text/plain": [
       "'B%g4zt'"
      ]
     },
     "execution_count": 3,
     "metadata": {},
     "output_type": "execute_result"
    }
   ],
   "source": [
    "defend_password(2)"
   ]
  },
  {
   "cell_type": "code",
   "execution_count": 13,
   "metadata": {},
   "outputs": [
    {
     "data": {
      "text/plain": [
       "'password not found'"
      ]
     },
     "execution_count": 13,
     "metadata": {},
     "output_type": "execute_result"
    }
   ],
   "source": [
    "password = \"lololo\"\n",
    "attack_password(password,1,\"ech.txt\")"
   ]
  },
  {
   "cell_type": "code",
   "execution_count": 3,
   "metadata": {},
   "outputs": [
    {
     "name": "stdout",
     "output_type": "stream",
     "text": [
      "password is k+=^\n"
     ]
    }
   ],
   "source": [
    "attack = 1\n",
    "defend = 1\n",
    "password = defend_password(defend)\n",
    "\n",
    "guess = attack_password(password,attack,\"/home/kali/Documents/projet_3A/gym-idsgame/gym_idsgame/cyber/ressources/ech.txt\")\n",
    "print(guess)\n"
   ]
  },
  {
   "cell_type": "code",
   "execution_count": 3,
   "metadata": {},
   "outputs": [
    {
     "data": {
      "text/plain": [
       "False"
      ]
     },
     "execution_count": 3,
     "metadata": {},
     "output_type": "execute_result"
    }
   ],
   "source": [
    "simulate_attack_password(0,0)"
   ]
  },
  {
   "cell_type": "code",
   "execution_count": 7,
   "metadata": {},
   "outputs": [
    {
     "name": "stdout",
     "output_type": "stream",
     "text": [
      "0\n",
      "10\n",
      "20\n",
      "30\n",
      "40\n",
      "50\n",
      "60\n",
      "70\n",
      "80\n",
      "90\n",
      "attack win in 2% of the time\n"
     ]
    }
   ],
   "source": [
    "#attack_password(defend_password(1),2)\n",
    "attack = 0\n",
    "defend = 1\n",
    "count = 0\n",
    "for i in range(100):\n",
    "    res = attack_password(defend_password(defend),attack,\"ech.txt\")\n",
    "    if(res != 'password not found'):\n",
    "        #print(res)\n",
    "        count+=1\n",
    "    if i%10 == 0:\n",
    "        print(i)\n",
    "print('attack win in {}% of the time'.format(count))"
   ]
  },
  {
   "cell_type": "code",
   "execution_count": 4,
   "metadata": {},
   "outputs": [
    {
     "name": "stdout",
     "output_type": "stream",
     "text": [
      "1 0\n",
      "12 0.3251076889038086\n",
      "_______________\n",
      "1 1\n",
      "2 0.3497146201133728\n",
      "_______________\n",
      "1 2\n",
      "0 0.34156580686569216\n",
      "_______________\n",
      "2 0\n",
      "13 0.9052361416816711\n",
      "_______________\n",
      "2 1\n",
      "6 0.8834755825996399\n",
      "_______________\n",
      "2 2\n",
      "0 0.8841331076622009\n",
      "_______________\n"
     ]
    }
   ],
   "source": [
    "for attack in range(1,3):\n",
    "    for defend in range(3):\n",
    "        count = 0\n",
    "        start = time.time()\n",
    "        for _ in range(100):\n",
    "            if simulate_attack_password(attack,defend):\n",
    "                count+=1\n",
    "        end = time.time()\n",
    "        time_duration = end - start\n",
    "        win_perc = count\n",
    "        print(attack,defend)\n",
    "        print(win_perc,time_duration / 100)\n",
    "        print('_______________')"
   ]
  }
 ],
 "metadata": {
  "interpreter": {
   "hash": "0704ed561e1cd50adb52a86e79bf800f6a21367f61919e408cd150d7b3514cd0"
  },
  "kernelspec": {
   "display_name": "Python 3.9.2 64-bit ('rootme': venv)",
   "language": "python",
   "name": "python3"
  },
  "language_info": {
   "codemirror_mode": {
    "name": "ipython",
    "version": 3
   },
   "file_extension": ".py",
   "mimetype": "text/x-python",
   "name": "python",
   "nbconvert_exporter": "python",
   "pygments_lexer": "ipython3",
   "version": "3.9.2"
  },
  "orig_nbformat": 4
 },
 "nbformat": 4,
 "nbformat_minor": 2
}
