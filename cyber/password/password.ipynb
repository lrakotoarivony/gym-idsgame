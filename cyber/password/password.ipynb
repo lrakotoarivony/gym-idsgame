{
 "cells": [
  {
   "cell_type": "code",
   "execution_count": 2,
   "metadata": {},
   "outputs": [],
   "source": [
    "test = \"password\""
   ]
  },
  {
   "cell_type": "code",
   "execution_count": 1,
   "metadata": {},
   "outputs": [],
   "source": [
    "import itertools\n",
    "import string\n",
    "import secrets\n",
    "\n",
    "def attack_password(real, strength,wordlist = \"ech.txt\"):\n",
    "    if(strength == 1):\n",
    "        chars = string.ascii_lowercase + string.digits\n",
    "        length = 4\n",
    "        use_wordlist = False\n",
    "    if(strength == 2):\n",
    "        chars = string.ascii_letters + string.digits + string.punctuation\n",
    "        length = 4\n",
    "        use_wordlist = False\n",
    "    if(strength == 3):\n",
    "        chars = string.ascii_letters + string.digits + string.punctuation\n",
    "        length = 4\n",
    "        use_wordlist = True\n",
    "\n",
    "    if use_wordlist:\n",
    "        with open(wordlist, \"r\") as a_file:\n",
    "            for line in a_file:\n",
    "                guess = line.strip()\n",
    "                if guess == real:\n",
    "                    return 'password is {}'.format(guess)\n",
    "    for password_length in range(1, length + 1):\n",
    "        for guess in itertools.product(chars, repeat=password_length):\n",
    "            guess = ''.join(guess)\n",
    "            if guess == real:\n",
    "                return 'password is {}'.format(guess)\n",
    "    return 'password not found'\n",
    "\n",
    "def defend_password(strength):\n",
    "    if strength == 1:\n",
    "        chars = string.ascii_letters + string.digits\n",
    "        length = 4\n",
    "    if strength == 2:\n",
    "        chars = string.ascii_letters + string.digits + string.punctuation\n",
    "        length = 4\n",
    "    if strength == 3:\n",
    "        chars = string.ascii_letters + string.digits + string.punctuation\n",
    "        length = 6\n",
    "    password = ''.join(secrets.choice(chars) for i in range(length))\n",
    "    return password\n",
    "\n",
    "\n"
   ]
  },
  {
   "cell_type": "code",
   "execution_count": 4,
   "metadata": {},
   "outputs": [
    {
     "data": {
      "text/plain": [
       "'ryM|'"
      ]
     },
     "execution_count": 4,
     "metadata": {},
     "output_type": "execute_result"
    }
   ],
   "source": [
    "defend_password(2)"
   ]
  },
  {
   "cell_type": "code",
   "execution_count": 5,
   "metadata": {},
   "outputs": [
    {
     "name": "stdout",
     "output_type": "stream",
     "text": [
      "0\n",
      "10\n",
      "20\n",
      "30\n",
      "40\n",
      "50\n",
      "60\n",
      "70\n",
      "80\n",
      "90\n",
      "attack win in 11% of the time\n"
     ]
    }
   ],
   "source": [
    "#attack_password(defend_password(1),2)\n",
    "attack = 1\n",
    "defend = 1\n",
    "count = 0\n",
    "for i in range(100):\n",
    "    res = attack_password(defend_password(defend),attack)\n",
    "    if(res != 'password not found'):\n",
    "        #print(res)\n",
    "        count+=1\n",
    "    if i%10 == 0:\n",
    "        print(i)\n",
    "print('attack win in {}% of the time'.format(count))"
   ]
  }
 ],
 "metadata": {
  "interpreter": {
   "hash": "0704ed561e1cd50adb52a86e79bf800f6a21367f61919e408cd150d7b3514cd0"
  },
  "kernelspec": {
   "display_name": "Python 3.9.2 64-bit ('rootme': venv)",
   "language": "python",
   "name": "python3"
  },
  "language_info": {
   "codemirror_mode": {
    "name": "ipython",
    "version": 3
   },
   "file_extension": ".py",
   "mimetype": "text/x-python",
   "name": "python",
   "nbconvert_exporter": "python",
   "pygments_lexer": "ipython3",
   "version": "3.9.2"
  },
  "orig_nbformat": 4
 },
 "nbformat": 4,
 "nbformat_minor": 2
}
